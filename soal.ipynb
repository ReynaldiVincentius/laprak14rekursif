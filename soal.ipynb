{
 "cells": [
  {
   "cell_type": "code",
   "execution_count": null,
   "metadata": {},
   "outputs": [],
   "source": [
    "def prima(bil, x = 2):\n",
    "    if bil == 2 :\n",
    "        return True\n",
    "    elif bil < 2 or bil % x == 0 :\n",
    "        return False\n",
    "    elif x * x > bil :\n",
    "        return True\n",
    "    else:\n",
    "        return prima(bil, x + 1)\n",
    "\n",
    "n = int(input(\"masukkan bilangan = \"))\n",
    "if prima(n):\n",
    "    print(f\"{n} adalah bilangan prima\")\n",
    "else:\n",
    "    print(f\"{n} bukan bilangan prima\")"
   ]
  },
  {
   "cell_type": "code",
   "execution_count": null,
   "metadata": {},
   "outputs": [],
   "source": [
    "def palindrom(kalimat):\n",
    "    if len(kalimat) < 2:\n",
    "        return True\n",
    "    elif kalimat[0] == kalimat[-1]:\n",
    "        return palindrom(kalimat[1:-1])\n",
    "    return False\n",
    "\n",
    "kal = input(\"masukkan kalimat = \")\n",
    "kal = kal.replace(' ', '').lower()\n",
    "if palindrom(kal) :\n",
    "    print(\"kalimat tersebut palindrom\")\n",
    "else :\n",
    "    print(\"kalimat tersebut bukan palindrom\")"
   ]
  },
  {
   "cell_type": "code",
   "execution_count": null,
   "metadata": {},
   "outputs": [],
   "source": [
    "def deret_ganjil(x):\n",
    "    if x <= 0:\n",
    "        return 0\n",
    "    else:\n",
    "        return (2 * x - 1) + deret_ganjil(x - 1)\n",
    "\n",
    "bil = int(input(\"masukkan bilangan = \"))\n",
    "print(deret_ganjil(bil))"
   ]
  },
  {
   "cell_type": "code",
   "execution_count": null,
   "metadata": {},
   "outputs": [],
   "source": [
    "def jumlah_digit(x) :\n",
    "    if x == 0 :\n",
    "        return 0\n",
    "    else :\n",
    "        return x % 10 + jumlah_digit(x // 10)\n",
    "\n",
    "bil = int(input(\"masukkan bilangan = \"))\n",
    "print(jumlah_digit(bil))"
   ]
  },
  {
   "cell_type": "code",
   "execution_count": null,
   "metadata": {},
   "outputs": [],
   "source": [
    "def kombinasi(x, y):\n",
    "    if y == 0 or x == y :\n",
    "        return 1\n",
    "    else :\n",
    "        return kombinasi(x - 1, y - 1) + kombinasi(x - 1, y)\n",
    "    \n",
    "bil1 = int(input(\"masukkan bilangan 1 = \"))\n",
    "bil2 = int(input(\"masukkan bilangan 2 = \"))\n",
    "print(kombinasi(bil1, bil2))"
   ]
  }
 ],
 "metadata": {
  "kernelspec": {
   "display_name": "Python 3",
   "language": "python",
   "name": "python3"
  },
  "language_info": {
   "name": "python",
   "version": "3.10.12"
  }
 },
 "nbformat": 4,
 "nbformat_minor": 2
}
